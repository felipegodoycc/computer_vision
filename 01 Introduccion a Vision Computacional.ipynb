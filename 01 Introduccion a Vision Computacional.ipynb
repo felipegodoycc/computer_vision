{
 "cells": [
  {
   "cell_type": "markdown",
   "metadata": {},
   "source": [
    "# Introducción a la Visión computacional\n",
    "\n",
    "**Autor:** Roberto Muñoz <br />\n",
    "**Linkedin:** <http://linkedin.com/in/robertopmunoz>  <br />\n",
    "**Github:** <http://github.com/rpmunoz/computer_vision>  <br />\n",
    "\n",
    "\n",
    "## ¿Qué es la Visión computacional?\n",
    "\n",
    "\n",
    "La visión computacional es un campo interdisciplinario que estudia el cómo proveer a los computadores de las mismas capacidades visuales que poseemos los humanos. Como disciplina científica, se preocupa de construir la base teórica que permite a los sistemas artificiales extraer información a partir de imágenes.\n",
    "\n",
    "Se dice que es un campo interdisciplinario pues surge a partir de la interacción de múltiples disciplinas tales como Procesamiento de imágenes, Ciencias de la Computación, Física y Matemáticas.\n",
    "\n",
    "![Image of Computer Vision](figures/computer_vision_venn_diagram.jpg)"
   ]
  },
  {
   "cell_type": "markdown",
   "metadata": {},
   "source": [
    "## ¿Cuá es su relación con los campos de Procesamiento de imágenes y Visión por máquina?\n",
    "\n",
    "El procesamiento de imágenes se enfoca en el procesamiento de imágenes 2D, registro de imágenes, eliminación de errores instrumentales. No se generan interpretaciones de qué hay en la imagen.\n",
    "\n",
    "La visión por máquina o machine vision se enfoca en los procesos de aplicar métodos y tecnologías que provean inspección automatizada, control de procesos y sistemas de guía de robots basados en imágenes en el contexto de aplicaciones industriales.\n",
    "\n",
    "![Image of Computer Vision](figures/image_machine_and_computer_vision.jpg)\n"
   ]
  },
  {
   "cell_type": "markdown",
   "metadata": {
    "collapsed": true
   },
   "source": [
    "## Principales etapas en visión computacional\n",
    "\n",
    "Un sistema de visión computacional transforma un dato no estructurado y en uno estructurado uqe permita tomar decisiones. Las principales etapas asociadas al procesamiento de una imagen digital son las siguientes,\n",
    "\n",
    "1. Adquisición\n",
    "2. Procesamiento\n",
    "3. Análisis\n",
    "4. Entendimiento\n",
    "5. Generación de información"
   ]
  },
  {
   "cell_type": "markdown",
   "metadata": {},
   "source": [
    "## Aplicaciones populares\n",
    "\n",
    "- Inspeción automatizada (e.g. fábrica de botellas)\n",
    "- Asistencia en tareas de identificación (e.g. identificación de personas)\n",
    "- Detección de eventos (e.g. vigilancia con cámaras)\n",
    "- Navegación (e.g. automóviles autónomos)\n",
    "\n",
    "## Tareas\n",
    "\n",
    "- Detección y reconocimiento de objetos\n",
    "- Análisis de movimiento\n",
    "- Reconstrucción de escenas\n",
    "- Restauración de imágenes"
   ]
  },
  {
   "cell_type": "markdown",
   "metadata": {},
   "source": [
    "## Estado actual de librerías y frameworks usadas en Computer Vision\n",
    "\n",
    "Los principales lenguajes de programación usados para desarrollar sistemas de Computer Vision son,\n",
    "\n",
    "- Matlab\n",
    "- Python\n",
    "- C++\n",
    "- C\n",
    "- R\n",
    "\n",
    "Las principales librerías usadas en Computer Vision son,\n",
    "\n",
    "- Computer vision toolbox (Matlab)\n",
    "- Image processing toolbox (Matlab)\n",
    "- OpenCV (C++, Python)\n",
    "- Dlib (C++, Python, R)\n",
    "- Scikit-Image (Python)\n",
    "- OpenFace (Python)\n",
    "\n",
    "Los frameworks principalmente usados para desarrollar sistemas de Visión Computacional son,\n",
    "\n",
    "- Tensorflow (Google)\n",
    "- Torch (Facebook)\n",
    "- CNTK (Microsoft)\n",
    "- Theano\n",
    "- Caffe"
   ]
  },
  {
   "cell_type": "code",
   "execution_count": null,
   "metadata": {
    "collapsed": true
   },
   "outputs": [],
   "source": []
  },
  {
   "cell_type": "code",
   "execution_count": null,
   "metadata": {
    "collapsed": true
   },
   "outputs": [],
   "source": []
  }
 ],
 "metadata": {
  "kernelspec": {
   "display_name": "R",
   "language": "R",
   "name": "ir"
  },
  "language_info": {
   "codemirror_mode": "r",
   "file_extension": ".r",
   "mimetype": "text/x-r-source",
   "name": "R",
   "pygments_lexer": "r",
   "version": "3.3.3"
  }
 },
 "nbformat": 4,
 "nbformat_minor": 2
}
